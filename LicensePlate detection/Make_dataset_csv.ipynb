{
 "cells": [
  {
   "cell_type": "markdown",
   "metadata": {},
   "source": [
    "This code allows user to click and drag bounding boxes for easy annotation of training images.  The bounding boxes are saved in csv format which can be changed to SFrame."
   ]
  },
  {
   "cell_type": "code",
   "execution_count": 22,
   "metadata": {},
   "outputs": [],
   "source": [
    "import cv2\n",
    "import argparse\n",
    "from matplotlib import pyplot as plt\n",
    "import numpy as np"
   ]
  },
  {
   "cell_type": "code",
   "execution_count": 23,
   "metadata": {},
   "outputs": [],
   "source": [
    "annotations = [None]*6 # a list off all the dictionary annotations\n",
    "image = ['image'] # column of images\n",
    "name = ['name'] # column of names\n",
    "xmin = ['xmin'] # column of xmins \n",
    "xmax = ['xmax'] # column of xmaxs\n",
    "ymin = ['ymin'] # column of ymins\n",
    "ymax = ['ymax'] # column of ymaxs"
   ]
  },
  {
   "cell_type": "code",
   "execution_count": 24,
   "metadata": {},
   "outputs": [],
   "source": [
    "# initialize the list of reference points and boolean indicating\n",
    "# whether cropping is being performed or not\n",
    "refPt = []\n",
    "cropping = False\n",
    " \n",
    "def click_and_crop(event, x, y, flags, param):\n",
    "    # grab references to the global variables\n",
    "    global refPt, cropping\n",
    " \n",
    "    # if the left mouse button was clicked, record the starting\n",
    "    # (x, y) coordinates and indicate that cropping is being\n",
    "    # performed\n",
    "    if event == cv2.EVENT_LBUTTONDOWN:\n",
    "        refPt = [(x, y)]\n",
    "        cropping = True\n",
    " \n",
    "    # check to see if the left mouse button was released\n",
    "    elif event == cv2.EVENT_LBUTTONUP:\n",
    "        # record the ending (x, y) coordinates and indicate that\n",
    "        # the cropping operation is finished\n",
    "        refPt.append((x, y))\n",
    "        cropping = False\n",
    " \n",
    "        # draw a rectangle around the region of interest\n",
    "        cv2.rectangle(im, refPt[0], refPt[1], (0, 255, 0), 2)\n",
    "        cv2.imshow(\"image\", im)"
   ]
  },
  {
   "cell_type": "code",
   "execution_count": 119,
   "metadata": {},
   "outputs": [
    {
     "name": "stdout",
     "output_type": "stream",
     "text": [
      "['xmin', 258, 213, 230, 274, 254, 282, 284, 73, 217, 226, 121, 257, 345, 221, 251, 138, 236, 310, 252, 213, 147, 76, 250, 212, 160, 153, 157, 283, 210, 88, 187, 146, 237, 237, 245, 231, 257, 201, 355, 246, 206, 239, 188, 168, 311, 232, 96, 206, 261, 165, 212, 475, 249, 223, 223, 216, 405, 13, 208, 231, 247, 228, 256, 110, 1, 180, 1, 114, 181, 12, 261, 183, 217, 16, 16, 128, 223, 240, 214, 128, 242, 84, 368, 386, 273, 217, 166, 231, 189, 242, 242, 0, 294, 94, 215]\n"
     ]
    }
   ],
   "source": [
    "# construct the argument parser and parse the arguments\n",
    "#ap = argparse.ArgumentParser()\n",
    "#ap.add_argument(\"-i\", \"--image\", required=True, help=\"Path to the image\")\n",
    "#args = vars(ap.parse_args())\n",
    " \n",
    "# load the image, clone it, and setup the mouse callback function\n",
    "#image = cv2.imread(args[\"image\"])\n",
    "i = 94\n",
    "cropped_file ='img' + str(i) + '.jpg'\n",
    "im = cv2.imread('cropped_plates/'+cropped_file)\n",
    "clone = im.copy()\n",
    "cv2.namedWindow(\"im\")\n",
    "cv2.setMouseCallback(\"im\", click_and_crop)\n",
    " \n",
    "# keep looping until the 'q' key is pressed\n",
    "while True:\n",
    "    # display the image and wait for a keypress\n",
    "    cv2.imshow(\"im\", im)\n",
    "    key = cv2.waitKey(1) & 0xFF\n",
    " \n",
    "    # if the 'r' key is pressed, reset the cropping region\n",
    "    if key == ord(\"r\"):\n",
    "        im = clone.copy()\n",
    " \n",
    "    # if the 'c' key is pressed, break from the loop\n",
    "    elif key == ord(\"c\"):\n",
    "        break\n",
    " \n",
    "# if there are two reference points, then crop the region of interest\n",
    "# from the image and display it\n",
    "if len(refPt) == 2:\n",
    "    roi = clone[refPt[0][1]:refPt[1][1], refPt[0][0]:refPt[1][0]]\n",
    "    #cv2.imshow(\"ROI\", roi)\n",
    "    #cv2.waitKey(0)\n",
    " \n",
    "# close all open windows\n",
    "cv2.destroyAllWindows()\n",
    "\n",
    "image.append(cropped_file)\n",
    "name.append('License Plate')\n",
    "xmin.append(refPt[0][0])\n",
    "xmax.append(refPt[1][0])\n",
    "ymin.append(refPt[0][1])\n",
    "ymax.append(refPt[1][1])\n",
    "\n",
    "#coordinates = {'height':height, 'width':width, 'x':x, 'y':y}\n",
    "#annotation = {'file':cropped_file, 'coordinates':coordinates, 'label':'license plate'}\n",
    "#annotations.append(annotation)\n",
    "print(xmin)"
   ]
  },
  {
   "cell_type": "code",
   "execution_count": 120,
   "metadata": {},
   "outputs": [
    {
     "name": "stdout",
     "output_type": "stream",
     "text": [
      "[['image', 'img0.jpg', 'img1.jpg', 'img2.jpg', 'img3.jpg', 'img4.jpg', 'img5.jpg', 'img6.jpg', 'img7.jpg', 'img8.jpg', 'img9.jpg', 'img10.jpg', 'img11.jpg', 'img12.jpg', 'img13.jpg', 'img14.jpg', 'img15.jpg', 'img16.jpg', 'img17.jpg', 'img18.jpg', 'img19.jpg', 'img20.jpg', 'img21.jpg', 'img22.jpg', 'img23.jpg', 'img24.jpg', 'img25.jpg', 'img26.jpg', 'img27.jpg', 'img28.jpg', 'img29.jpg', 'img30.jpg', 'img31.jpg', 'img32.jpg', 'img33.jpg', 'img34.jpg', 'img35.jpg', 'img36.jpg', 'img37.jpg', 'img38.jpg', 'img39.jpg', 'img40.jpg', 'img41.jpg', 'img42.jpg', 'img43.jpg', 'img44.jpg', 'img45.jpg', 'img46.jpg', 'img47.jpg', 'img48.jpg', 'img49.jpg', 'img50.jpg', 'img51.jpg', 'img52.jpg', 'img53.jpg', 'img54.jpg', 'img55.jpg', 'img56.jpg', 'img57.jpg', 'img58.jpg', 'img59.jpg', 'img60.jpg', 'img61.jpg', 'img62.jpg', 'img63.jpg', 'img64.jpg', 'img65.jpg', 'img66.jpg', 'img67.jpg', 'img68.jpg', 'img69.jpg', 'img70.jpg', 'img71.jpg', 'img72.jpg', 'img73.jpg', 'img74.jpg', 'img75.jpg', 'img76.jpg', 'img77.jpg', 'img78.jpg', 'img79.jpg', 'img80.jpg', 'img81.jpg', 'img82.jpg', 'img83.jpg', 'img84.jpg', 'img85.jpg', 'img86.jpg', 'img87.jpg', 'img88.jpg', 'img89.jpg', 'img90.jpg', 'img91.jpg', 'img92.jpg', 'img93.jpg', 'img94.jpg'], ['name', 'License Plate', 'License Plate', 'License Plate', 'License Plate', 'License Plate', 'License Plate', 'License Plate', 'License Plate', 'License Plate', 'License Plate', 'License Plate', 'License Plate', 'License Plate', 'License Plate', 'License Plate', 'License Plate', 'License Plate', 'License Plate', 'License Plate', 'License Plate', 'License Plate', 'License Plate', 'License Plate', 'License Plate', 'License Plate', 'License Plate', 'License Plate', 'License Plate', 'License Plate', 'License Plate', 'License Plate', 'License Plate', 'License Plate', 'License Plate', 'License Plate', 'License Plate', 'License Plate', 'License Plate', 'License Plate', 'License Plate', 'License Plate', 'License Plate', 'License Plate', 'License Plate', 'License Plate', 'License Plate', 'License Plate', 'License Plate', 'License Plate', 'License Plate', 'License Plate', 'License Plate', 'License Plate', 'License Plate', 'License Plate', 'License Plate', 'License Plate', 'License Plate', 'License Plate', 'License Plate', 'License Plate', 'License Plate', 'License Plate', 'License Plate', 'License Plate', 'License Plate', 'License Plate', 'License Plate', 'License Plate', 'License Plate', 'License Plate', 'License Plate', 'License Plate', 'License Plate', 'License Plate', 'License Plate', 'License Plate', 'License Plate', 'License Plate', 'License Plate', 'License Plate', 'License Plate', 'License Plate', 'License Plate', 'License Plate', 'License Plate', 'License Plate', 'License Plate', 'License Plate', 'License Plate', 'License Plate', 'License Plate', 'License Plate', 'License Plate', 'License Plate'], ['xmin', 258, 213, 230, 274, 254, 282, 284, 73, 217, 226, 121, 257, 345, 221, 251, 138, 236, 310, 252, 213, 147, 76, 250, 212, 160, 153, 157, 283, 210, 88, 187, 146, 237, 237, 245, 231, 257, 201, 355, 246, 206, 239, 188, 168, 311, 232, 96, 206, 261, 165, 212, 475, 249, 223, 223, 216, 405, 13, 208, 231, 247, 228, 256, 110, 1, 180, 1, 114, 181, 12, 261, 183, 217, 16, 16, 128, 223, 240, 214, 128, 242, 84, 368, 386, 273, 217, 166, 231, 189, 242, 242, 0, 294, 94, 215], ['xmax', 387, 317, 353, 443, 381, 358, 367, 320, 383, 456, 350, 378, 473, 482, 354, 341, 407, 404, 361, 429, 392, 559, 348, 404, 375, 594, 429, 402, 443, 589, 402, 445, 353, 353, 359, 380, 377, 405, 515, 375, 431, 366, 406, 598, 448, 335, 258, 387, 419, 597, 367, 596, 396, 388, 380, 374, 512, 65, 416, 438, 372, 401, 347, 485, 387, 340, 45, 218, 418, 263, 412, 391, 357, 63, 63, 390, 381, 389, 386, 435, 460, 589, 444, 521, 419, 353, 353, 497, 347, 365, 365, 47, 437, 217, 360], ['ymin', 162, 155, 165, 127, 171, 223, 212, 126, 304, 118, 192, 189, 267, 76, 204, 77, 291, 219, 184, 111, 201, 40, 189, 130, 103, 64, 74, 148, 195, 39, 192, 114, 294, 294, 122, 184, 188, 181, 84, 261, 199, 153, 191, 68, 275, 204, 287, 298, 200, 66, 267, 125, 85, 208, 184, 239, 194, 7, 18, 284, 176, 257, 174, 63, 206, 186, 5, 200, 248, 193, 161, 86, 272, 22, 22, 265, 144, 161, 159, 147, 105, 31, 184, 179, 177, 199, 84, 53, 155, 153, 153, 12, 141, 248, 275], ['ymax', 228, 216, 248, 223, 238, 265, 252, 254, 390, 223, 326, 253, 333, 235, 262, 189, 387, 274, 248, 305, 322, 262, 246, 235, 214, 326, 223, 209, 309, 271, 289, 278, 353, 353, 185, 261, 253, 291, 162, 330, 315, 222, 309, 312, 339, 259, 376, 392, 285, 313, 351, 204, 164, 294, 279, 325, 255, 39, 130, 393, 240, 354, 227, 270, 399, 278, 32, 263, 379, 341, 246, 196, 353, 53, 53, 397, 229, 244, 247, 311, 225, 294, 227, 257, 258, 274, 189, 197, 238, 224, 224, 47, 218, 316, 354]]\n"
     ]
    }
   ],
   "source": [
    "annotations[0] = image\n",
    "annotations[1] = name\n",
    "annotations[2] = xmin\n",
    "annotations[3] = xmax\n",
    "annotations[4] = ymin\n",
    "annotations[5] = ymax\n",
    "print(annotations)\n",
    "\n",
    "#import csv\n",
    "#with open('savetest.csv', 'wb') as myfile:\n",
    "#    wr = csv.writer(annotations, quoting=csv.QUOTE_ALL)\n",
    "#    wr.writerow(annotations)"
   ]
  },
  {
   "cell_type": "code",
   "execution_count": 121,
   "metadata": {},
   "outputs": [
    {
     "name": "stdout",
     "output_type": "stream",
     "text": [
      "            0              1     2     3     4     5\n",
      "0       image           name  xmin  xmax  ymin  ymax\n",
      "1    img0.jpg  License Plate   258   387   162   228\n",
      "2    img1.jpg  License Plate   213   317   155   216\n",
      "3    img2.jpg  License Plate   230   353   165   248\n",
      "4    img3.jpg  License Plate   274   443   127   223\n",
      "5    img4.jpg  License Plate   254   381   171   238\n",
      "6    img5.jpg  License Plate   282   358   223   265\n",
      "7    img6.jpg  License Plate   284   367   212   252\n",
      "8    img7.jpg  License Plate    73   320   126   254\n",
      "9    img8.jpg  License Plate   217   383   304   390\n",
      "10   img9.jpg  License Plate   226   456   118   223\n",
      "11  img10.jpg  License Plate   121   350   192   326\n",
      "12  img11.jpg  License Plate   257   378   189   253\n",
      "13  img12.jpg  License Plate   345   473   267   333\n",
      "14  img13.jpg  License Plate   221   482    76   235\n",
      "15  img14.jpg  License Plate   251   354   204   262\n",
      "16  img15.jpg  License Plate   138   341    77   189\n",
      "17  img16.jpg  License Plate   236   407   291   387\n",
      "18  img17.jpg  License Plate   310   404   219   274\n",
      "19  img18.jpg  License Plate   252   361   184   248\n",
      "20  img19.jpg  License Plate   213   429   111   305\n",
      "21  img20.jpg  License Plate   147   392   201   322\n",
      "22  img21.jpg  License Plate    76   559    40   262\n",
      "23  img22.jpg  License Plate   250   348   189   246\n",
      "24  img23.jpg  License Plate   212   404   130   235\n",
      "25  img24.jpg  License Plate   160   375   103   214\n",
      "26  img25.jpg  License Plate   153   594    64   326\n",
      "27  img26.jpg  License Plate   157   429    74   223\n",
      "28  img27.jpg  License Plate   283   402   148   209\n",
      "29  img28.jpg  License Plate   210   443   195   309\n",
      "..        ...            ...   ...   ...   ...   ...\n",
      "66  img65.jpg  License Plate   180   340   186   278\n",
      "67  img66.jpg  License Plate     1    45     5    32\n",
      "68  img67.jpg  License Plate   114   218   200   263\n",
      "69  img68.jpg  License Plate   181   418   248   379\n",
      "70  img69.jpg  License Plate    12   263   193   341\n",
      "71  img70.jpg  License Plate   261   412   161   246\n",
      "72  img71.jpg  License Plate   183   391    86   196\n",
      "73  img72.jpg  License Plate   217   357   272   353\n",
      "74  img73.jpg  License Plate    16    63    22    53\n",
      "75  img74.jpg  License Plate    16    63    22    53\n",
      "76  img75.jpg  License Plate   128   390   265   397\n",
      "77  img76.jpg  License Plate   223   381   144   229\n",
      "78  img77.jpg  License Plate   240   389   161   244\n",
      "79  img78.jpg  License Plate   214   386   159   247\n",
      "80  img79.jpg  License Plate   128   435   147   311\n",
      "81  img80.jpg  License Plate   242   460   105   225\n",
      "82  img81.jpg  License Plate    84   589    31   294\n",
      "83  img82.jpg  License Plate   368   444   184   227\n",
      "84  img83.jpg  License Plate   386   521   179   257\n",
      "85  img84.jpg  License Plate   273   419   177   258\n",
      "86  img85.jpg  License Plate   217   353   199   274\n",
      "87  img86.jpg  License Plate   166   353    84   189\n",
      "88  img87.jpg  License Plate   231   497    53   197\n",
      "89  img88.jpg  License Plate   189   347   155   238\n",
      "90  img89.jpg  License Plate   242   365   153   224\n",
      "91  img90.jpg  License Plate   242   365   153   224\n",
      "92  img91.jpg  License Plate     0    47    12    47\n",
      "93  img92.jpg  License Plate   294   437   141   218\n",
      "94  img93.jpg  License Plate    94   217   248   316\n",
      "95  img94.jpg  License Plate   215   360   275   354\n",
      "\n",
      "[96 rows x 6 columns]\n"
     ]
    }
   ],
   "source": [
    "import pandas as pd\n",
    "#map(annotations, map(None,*a))\n",
    "annotations = np.array(annotations).T.tolist()\n",
    "my_df = pd.DataFrame(annotations)\n",
    "my_df.to_csv('out.csv', index=False, header=False)\n",
    "print my_df"
   ]
  },
  {
   "cell_type": "code",
   "execution_count": null,
   "metadata": {},
   "outputs": [],
   "source": []
  },
  {
   "cell_type": "code",
   "execution_count": null,
   "metadata": {},
   "outputs": [],
   "source": []
  }
 ],
 "metadata": {
  "kernelspec": {
   "display_name": "Python 2",
   "language": "python",
   "name": "python2"
  },
  "language_info": {
   "codemirror_mode": {
    "name": "ipython",
    "version": 2
   },
   "file_extension": ".py",
   "mimetype": "text/x-python",
   "name": "python",
   "nbconvert_exporter": "python",
   "pygments_lexer": "ipython2",
   "version": "2.7.15"
  }
 },
 "nbformat": 4,
 "nbformat_minor": 2
}
