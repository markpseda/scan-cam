{
 "cells": [
  {
   "cell_type": "markdown",
   "metadata": {},
   "source": [
    "This code is to check my trained model and save the prediction results to jpg images with predicted bounding boxes."
   ]
  },
  {
   "cell_type": "code",
   "execution_count": 1,
   "metadata": {},
   "outputs": [],
   "source": [
    "import turicreate as tc\n",
    "from matplotlib import pyplot as plt\n",
    "import numpy as np\n",
    "from PIL import Image"
   ]
  },
  {
   "cell_type": "code",
   "execution_count": 2,
   "metadata": {},
   "outputs": [
    {
     "name": "stdout",
     "output_type": "stream",
     "text": [
      "Predicting  1/22\n",
      "Predicting 22/22\n"
     ]
    }
   ],
   "source": [
    "# Make predictions\n",
    "data =  tc.SFrame('ig02_plates.sframe') # load data\n",
    "model = tc.load_model(\"my_model.model\") # load the trained model\n",
    "test_data = tc.SFrame('test_data_split.sframe') # load testing images (that the model has never seen)\n",
    "predictions = model.predict(test_data) # make predictions"
   ]
  },
  {
   "cell_type": "code",
   "execution_count": 4,
   "metadata": {},
   "outputs": [],
   "source": [
    "test_data['predictions'] = predictions\n",
    "test_data['image_with_predictions'] = \\\n",
    "    tc.object_detector.util.draw_bounding_boxes(test_data['image'], test_data['predictions'])\n",
    "for i in range(len(test_data)):\n",
    "    filename = \"prediction_results_trial1/pred_\"+ test_data['name'][i] \n",
    "    img = test_data['image_with_predictions'][i]\n",
    "    Image.fromarray(img.pixel_data).save(filename)"
   ]
  },
  {
   "cell_type": "code",
   "execution_count": 3,
   "metadata": {},
   "outputs": [
    {
     "data": {
      "text/html": [
       "<pre>Materializing SFrame...</pre>"
      ],
      "text/plain": [
       "Materializing SFrame..."
      ]
     },
     "metadata": {},
     "output_type": "display_data"
    },
    {
     "data": {
      "text/html": [
       "<pre>Done.</pre>"
      ],
      "text/plain": [
       "Done."
      ]
     },
     "metadata": {},
     "output_type": "display_data"
    }
   ],
   "source": [
    "data['image_with_ground_truth'] = \\\n",
    "    tc.object_detector.util.draw_bounding_boxes(data['image'], data['annotations'])\n",
    "data.explore(title='First Window')\n",
    "\n",
    "\n",
    "#test_data[['image', 'image_with_predictions']].explore()"
   ]
  },
  {
   "cell_type": "code",
   "execution_count": 4,
   "metadata": {},
   "outputs": [
    {
     "data": {
      "text/plain": [
       "22"
      ]
     },
     "execution_count": 4,
     "metadata": {},
     "output_type": "execute_result"
    }
   ],
   "source": [
    "len(test_data)\n"
   ]
  },
  {
   "cell_type": "code",
   "execution_count": null,
   "metadata": {},
   "outputs": [],
   "source": []
  }
 ],
 "metadata": {
  "kernelspec": {
   "display_name": "Python 2",
   "language": "python",
   "name": "python2"
  },
  "language_info": {
   "codemirror_mode": {
    "name": "ipython",
    "version": 2
   },
   "file_extension": ".py",
   "mimetype": "text/x-python",
   "name": "python",
   "nbconvert_exporter": "python",
   "pygments_lexer": "ipython2",
   "version": "2.7.15"
  }
 },
 "nbformat": 4,
 "nbformat_minor": 2
}
