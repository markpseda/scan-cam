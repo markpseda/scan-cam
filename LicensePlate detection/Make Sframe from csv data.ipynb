{
 "cells": [
  {
   "cell_type": "markdown",
   "metadata": {},
   "source": [
    "This code is adapted from:\n",
    "https://github.com/apple/turicreate/blob/master/userguide/object_detection/data-preparation.md \n",
    "\n",
    "It serves to convert the csv bounding boxes to csv format which turicreate can use."
   ]
  },
  {
   "cell_type": "code",
   "execution_count": 11,
   "metadata": {},
   "outputs": [
    {
     "data": {
      "text/html": [
       "<pre>Finished parsing file /Users/gretakintzley/Google Drive/Senior Year/Senior Design/out.csv</pre>"
      ],
      "text/plain": [
       "Finished parsing file /Users/gretakintzley/Google Drive/Senior Year/Senior Design/out.csv"
      ]
     },
     "metadata": {},
     "output_type": "display_data"
    },
    {
     "data": {
      "text/html": [
       "<pre>Parsing completed. Parsed 95 lines in 0.035942 secs.</pre>"
      ],
      "text/plain": [
       "Parsing completed. Parsed 95 lines in 0.035942 secs."
      ]
     },
     "metadata": {},
     "output_type": "display_data"
    },
    {
     "name": "stdout",
     "output_type": "stream",
     "text": [
      "------------------------------------------------------\n",
      "Inferred types from first 100 line(s) of file as \n",
      "column_type_hints=[str,str,int,int,int,int]\n",
      "If parsing fails due to incorrect types, you can correct\n",
      "the inferred type list above and pass it to read_csv in\n",
      "the column_type_hints argument\n",
      "------------------------------------------------------\n"
     ]
    },
    {
     "data": {
      "text/html": [
       "<pre>Finished parsing file /Users/gretakintzley/Google Drive/Senior Year/Senior Design/out.csv</pre>"
      ],
      "text/plain": [
       "Finished parsing file /Users/gretakintzley/Google Drive/Senior Year/Senior Design/out.csv"
      ]
     },
     "metadata": {},
     "output_type": "display_data"
    },
    {
     "data": {
      "text/html": [
       "<pre>Parsing completed. Parsed 95 lines in 0.014178 secs.</pre>"
      ],
      "text/plain": [
       "Parsing completed. Parsed 95 lines in 0.014178 secs."
      ]
     },
     "metadata": {},
     "output_type": "display_data"
    },
    {
     "name": "stdout",
     "output_type": "stream",
     "text": [
      "+----------+---------------+------+------+------+------+\n",
      "|  image   |      name     | xmin | xmax | ymin | ymax |\n",
      "+----------+---------------+------+------+------+------+\n",
      "| img0.jpg | License Plate | 258  | 387  | 162  | 228  |\n",
      "| img1.jpg | License Plate | 213  | 317  | 155  | 216  |\n",
      "| img2.jpg | License Plate | 230  | 353  | 165  | 248  |\n",
      "| img3.jpg | License Plate | 274  | 443  | 127  | 223  |\n",
      "| img4.jpg | License Plate | 254  | 381  | 171  | 238  |\n",
      "| img5.jpg | License Plate | 282  | 358  | 223  | 265  |\n",
      "| img6.jpg | License Plate | 284  | 367  | 212  | 252  |\n",
      "| img7.jpg | License Plate |  73  | 320  | 126  | 254  |\n",
      "| img8.jpg | License Plate | 217  | 383  | 304  | 390  |\n",
      "| img9.jpg | License Plate | 226  | 456  | 118  | 223  |\n",
      "+----------+---------------+------+------+------+------+\n",
      "[95 rows x 6 columns]\n",
      "Note: Only the head of the SFrame is printed.\n",
      "You can use print_rows(num_rows=m, num_columns=n) to print more rows and columns.\n",
      "+----------+---------------+-------------------------------+\n",
      "|  image   |      name     |          coordinates          |\n",
      "+----------+---------------+-------------------------------+\n",
      "| img0.jpg | License Plate | {'y': 195, 'x': 322, 'widt... |\n",
      "| img1.jpg | License Plate | {'y': 185, 'x': 265, 'widt... |\n",
      "| img2.jpg | License Plate | {'y': 206, 'x': 291, 'widt... |\n",
      "| img3.jpg | License Plate | {'y': 175, 'x': 358, 'widt... |\n",
      "| img4.jpg | License Plate | {'y': 204, 'x': 317, 'widt... |\n",
      "| img5.jpg | License Plate | {'y': 244, 'x': 320, 'widt... |\n",
      "| img6.jpg | License Plate | {'y': 232, 'x': 325, 'widt... |\n",
      "| img7.jpg | License Plate | {'y': 190, 'x': 196, 'widt... |\n",
      "| img8.jpg | License Plate | {'y': 347, 'x': 300, 'widt... |\n",
      "| img9.jpg | License Plate | {'y': 170, 'x': 341, 'widt... |\n",
      "+----------+---------------+-------------------------------+\n",
      "[95 rows x 3 columns]\n",
      "Note: Only the head of the SFrame is printed.\n",
      "You can use print_rows(num_rows=m, num_columns=n) to print more rows and columns.\n",
      "+----------+---------------+-------------------------------+\n",
      "|   name   |     label     |          coordinates          |\n",
      "+----------+---------------+-------------------------------+\n",
      "| img0.jpg | License Plate | {'y': 195, 'x': 322, 'widt... |\n",
      "| img1.jpg | License Plate | {'y': 185, 'x': 265, 'widt... |\n",
      "| img2.jpg | License Plate | {'y': 206, 'x': 291, 'widt... |\n",
      "| img3.jpg | License Plate | {'y': 175, 'x': 358, 'widt... |\n",
      "| img4.jpg | License Plate | {'y': 204, 'x': 317, 'widt... |\n",
      "| img5.jpg | License Plate | {'y': 244, 'x': 320, 'widt... |\n",
      "| img6.jpg | License Plate | {'y': 232, 'x': 325, 'widt... |\n",
      "| img7.jpg | License Plate | {'y': 190, 'x': 196, 'widt... |\n",
      "| img8.jpg | License Plate | {'y': 347, 'x': 300, 'widt... |\n",
      "| img9.jpg | License Plate | {'y': 170, 'x': 341, 'widt... |\n",
      "+----------+---------------+-------------------------------+\n",
      "[95 rows x 3 columns]\n",
      "Note: Only the head of the SFrame is printed.\n",
      "You can use print_rows(num_rows=m, num_columns=n) to print more rows and columns.\n"
     ]
    }
   ],
   "source": [
    "import turicreate as tc\n",
    "import os\n",
    "\n",
    "IMAGES_DIR = 'cropped_plates' # Change if applicable\n",
    "csv_path = 'out.csv' # assumes CSV column format is image,id,name,xMin,xMax,yMin,yMax\n",
    "csv_sf = tc.SFrame.read_csv(csv_path)\n",
    "\n",
    "print(csv_sf)\n",
    "\n",
    "def row_to_bbox_coordinates(row):\n",
    "    \"\"\"\n",
    "    Takes a row and returns a dictionary representing bounding\n",
    "    box coordinates:  (center_x, center_y, width, height)  e.g. {'x': 100, 'y': 120, 'width': 80, 'height': 120}\n",
    "    \"\"\"\n",
    "    return {'x': row['xmin'] + (row['xmax'] - row['xmin'])/2, \n",
    "            'width': (row['xmax'] - row['xmin']),\n",
    "            'y': row['ymin'] + (row['ymax'] - row['ymin'])/2, \n",
    "            'height': (row['ymax'] - row['ymin'])}\n",
    "\n",
    "csv_sf['coordinates'] = csv_sf.apply(row_to_bbox_coordinates)\n",
    "\n",
    "# delete no longer needed columns\n",
    "del csv_sf['xmin'], csv_sf['xmax'], csv_sf['ymin'], csv_sf['ymax']\n",
    "\n",
    "print(csv_sf)\n",
    "\n",
    "# rename columns\n",
    "csv_sf = csv_sf.rename({'name': 'label'})\n",
    "csv_sf = csv_sf.rename({'image': 'name'})\n",
    "\n",
    "print(csv_sf)\n",
    "\n",
    "# Load all images in random order\n",
    "sf_images = tc.image_analysis.load_images(IMAGES_DIR, recursive=True,\n",
    "    random_order=True)\n",
    "\n",
    "# Split path to get filename\n",
    "info = sf_images['path'].apply(lambda path: os.path.basename(path).split('/')[:1])\n",
    "\n",
    "# Rename columns to 'name'\n",
    "info = info.unpack().rename({'X.0': 'name'})\n",
    "\n",
    "# Add to our main SFrame\n",
    "sf_images = sf_images.add_columns(info)\n",
    "\n",
    "# Original path no longer needed\n",
    "del sf_images['path']\n",
    "\n",
    "# Combine label and coordinates into a bounding box dictionary\n",
    "csv_sf = csv_sf.pack_columns(['label', 'coordinates'], new_column_name='bbox', dtype=dict)\n",
    "\n",
    "# Combine bounding boxes of the same 'name' into lists\n",
    "sf_annotations = csv_sf.groupby('name', \n",
    "    {'annotations': tc.aggregate.CONCAT('bbox')})\n",
    "\n",
    "# Join annotations with the images. Note, some images do not have annotations,\n",
    "# but we still want to keep them in the dataset. This is why it is important to\n",
    "# a LEFT join.\n",
    "sf = sf_images.join(sf_annotations, on='name', how='left')\n",
    "\n",
    "# The LEFT join fills missing matches with None, so we replace these with empty\n",
    "# lists instead using fillna.\n",
    "sf['annotations'] = sf['annotations'].fillna([])\n",
    "\n",
    "# Save SFrame\n",
    "sf.save('ig02_plates.sframe')"
   ]
  },
  {
   "cell_type": "code",
   "execution_count": 12,
   "metadata": {},
   "outputs": [
    {
     "data": {
      "text/plain": [
       "turicreate.data_structures.sframe.SFrame"
      ]
     },
     "execution_count": 12,
     "metadata": {},
     "output_type": "execute_result"
    }
   ],
   "source": [
    "type(sf)"
   ]
  },
  {
   "cell_type": "code",
   "execution_count": null,
   "metadata": {},
   "outputs": [],
   "source": []
  }
 ],
 "metadata": {
  "kernelspec": {
   "display_name": "Python 2",
   "language": "python",
   "name": "python2"
  },
  "language_info": {
   "codemirror_mode": {
    "name": "ipython",
    "version": 2
   },
   "file_extension": ".py",
   "mimetype": "text/x-python",
   "name": "python",
   "nbconvert_exporter": "python",
   "pygments_lexer": "ipython2",
   "version": "2.7.15"
  }
 },
 "nbformat": 4,
 "nbformat_minor": 2
}
